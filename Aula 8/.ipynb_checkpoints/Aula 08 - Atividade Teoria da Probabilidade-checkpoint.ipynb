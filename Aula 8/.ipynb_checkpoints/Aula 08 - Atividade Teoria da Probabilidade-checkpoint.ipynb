{
 "cells": [
  {
   "cell_type": "markdown",
   "metadata": {},
   "source": [
    "___\n",
    "# Atividade: Teoria da Probabilidade\n",
    "___\n",
    "\n",
    "## Aula 08\n",
    "\n",
    "**Referência de Leitura:**\n",
    "1. Magalhães e Lima (7ª. Edição): pág. 49 a 68 - Probabilidades\n",
    "\n",
    "**Hoje:**\n",
    "1. Conceito de Probabilidade\n",
    "4. Probabilidade Condicional\n",
    "3. Independência de eventos\n",
    "5. Teorema de Bayes. Simulação do problema de Monty Hall\n",
    "\n",
    "**Próxima aula:**\n",
    "1. Magalhães e Lima (7ª. Edição): pág. 69 a 104 - Variáveis aleatórias discretas\n",
    "___"
   ]
  },
  {
   "cell_type": "code",
   "execution_count": 7,
   "metadata": {
    "collapsed": true
   },
   "outputs": [],
   "source": [
    "%matplotlib inline\n",
    "import pandas as pd\n",
    "import matplotlib.pyplot as plt\n",
    "\n",
    "#Bibliotecas necessárias\n",
    "from numpy.random import shuffle, randint, choice\n",
    "import random\n",
    "import numpy as np"
   ]
  },
  {
   "cell_type": "markdown",
   "metadata": {},
   "source": [
    "## <font color='blue'>Exercício 1</font>\n",
    "\n",
    "Monte a simulação de 1000 jogadas de um dado idôneo de 6 faces. Faça o histograma (normalizado) da frequência.\n",
    "\n",
    "    a) Olhando o histograma, o que pode se dizer sobre as probabilidade de cada face?\n",
    "    \n",
    "    b) Discorra sobre o porque da probabilidade não ser exatamente igual à teórica."
   ]
  },
  {
   "cell_type": "code",
   "execution_count": 42,
   "metadata": {
    "collapsed": false
   },
   "outputs": [
    {
     "data": {
      "text/plain": [
       "(array([ 126.,  167.,  146.,  126.,  155.,  146.,  134.]),\n",
       " array([0, 1, 2, 3, 4, 5, 6, 7]),\n",
       " <a list of 7 Patch objects>)"
      ]
     },
     "execution_count": 42,
     "metadata": {},
     "output_type": "execute_result"
    },
    {
     "data": {
      "image/png": "[encoded data removed]",
      "text/plain": [
       "<matplotlib.figure.Figure at 0x286b76014a8>"
      ]
     },
     "metadata": {},
     "output_type": "display_data"
    }
   ],
   "source": [
    "t= 0\n",
    "listad = []\n",
    "\n",
    "while t < 1000:\n",
    "    d = random.randint (0,6)\n",
    "    listad.append (d)\n",
    "    t += 1\n",
    "\n",
    "#plt.hist(listad, bins=np.linspace(np.min(1), np.max(7)))\n",
    "plt.hist(listad, bins=range(min(listad), max(listad) + 2))\n",
    "\n",
    "\n",
    "#http://stackoverflow.com/questions/31596443/plotting-histrogram-from-numpy-array"
   ]
  },
  {
   "cell_type": "markdown",
   "metadata": {},
   "source": [
    "A probabilidade não é igual à teorica pois a probabilidade é aleatória,\n",
    "nesste caso principalmente por causa do número de rodadas testadas,\n",
    "se fossem feitas mais rodadas, com certeza o número se aproximaria\n",
    "do teórico"
   ]
  },
  {
   "cell_type": "markdown",
   "metadata": {},
   "source": [
    "___\n",
    "## <font color='blue'>Exercício 2</font>\n",
    "\n",
    "Ampliando o espaço amostral para as possíveis jogadas de 2 dados, analise as seguintes situações:\n",
    "    \n",
    "    a) Jogando os dois dados ao mesmo tempo. Qual é a probabilidade de obter soma 7?\n",
    "    \n",
    "    b) Jogando um dado e depois o segundo dado. Qual é a probabilidade de obter soma 7 já sabendo o resultado do primeiro? Compare o resultado com item anterior! Por que é igual ou diferente?"
   ]
  },
  {
   "cell_type": "code",
   "execution_count": 127,
   "metadata": {
    "collapsed": false
   },
   "outputs": [
    {
     "name": "stdout",
     "output_type": "stream",
     "text": [
      "A probabiliadde é de aproximadamente 12.283 %\n"
     ]
    }
   ],
   "source": [
    "t= 0\n",
    "somas = 0\n",
    "\n",
    "while t < 100000:\n",
    "    d1 = random.randint (0,6)\n",
    "    d2 = random.randint (0,6)\n",
    "    soma = d1 + d2\n",
    "    if soma == 7:\n",
    "        somas += 1\n",
    "    t += 1\n",
    "\n",
    "print ('A probabiliadde é de aproximadamente',somas/t*100, '%')"
   ]
  },
  {
   "cell_type": "code",
   "execution_count": 130,
   "metadata": {
    "collapsed": false
   },
   "outputs": [
    {
     "name": "stdout",
     "output_type": "stream",
     "text": [
      "A probabiliadde é de aproximadamente 14.456 %\n"
     ]
    }
   ],
   "source": [
    "t= 0\n",
    "somas = 0\n",
    "\n",
    "while t < 100000:\n",
    "    d1 = 1\n",
    "    d2 = random.randint (0,6)\n",
    "    soma = d1 + d2\n",
    "    if soma == 7:\n",
    "        somas += 1\n",
    "    t += 1\n",
    "\n",
    "print ('A probabiliadde é de aproximadamente',somas/t*100, '%')"
   ]
  },
  {
   "cell_type": "markdown",
   "metadata": {},
   "source": [
    "A probabilidade é igual, pois o valor do primeiro dado não importa,\n",
    "pois dado qualquer número no primeiro dado, existe apenas um outro\n",
    "complementer à ele no outro dado cuja soma seja = 7"
   ]
  },
  {
   "cell_type": "markdown",
   "metadata": {},
   "source": [
    "___\n",
    "## <font color='blue'>Exercício 3</font>\n",
    "\n",
    "Simule 10000 vezes o problema de Monty Hall¹ , usar o seguinte algoritmo:\n",
    "\n",
    "\n",
    "* Repetir 10000 vezes:\n",
    "    * Sorteie um número de porta de 1 a 3 para ser a premiada\n",
    "    * Sorteie um número de porta de 1 a 3 para ser a porta escolhida.\n",
    "    * Sorteie um número de porta para ser a aberta, desde que não seja a premiada e nem a porta escolhida. Assim, se:\n",
    "        * porta premiada é 1 e a escolhida é 1, sorteie entre as portas 2 e 3 para ser aberta\n",
    "        * porta premiada é 1 e a escolhida é 2, com probabilidade 1 deve abrir a porta 3\n",
    "        * porta premiada é 1 e a escolhida é 3, com probabilidade 1 deve abrir a porta 2\n",
    "        * assim para demais casos...\n",
    "    \n",
    "    * Calcule quantas vezes indivíduo ganha ao trocar de porta. Ou seja, se:\n",
    "        * porta premiada é 1, a escolhida é 1 e aberta é 2 (ou 3), indivíduo perde se trocar de porta\n",
    "        * porta premiada é 1, a escolhida é 2 e aberta é 3, indivíduo ganha se trocar de porta\n",
    "        * porta premiada é 1, a escolhida é 3 e aberta é 2, indivíduo ganha se trocar de porta\n",
    "        * assim para demais casos...\n",
    "        \n",
    "    * Exibir quantas vezes em 10000, o indivíduo ganhou ao trocar de porta.\n",
    "\n",
    "Compare o resultado numérico com o resultado analítico obtido via Teorema de Bayes.\n",
    "\n",
    "¹https://en.wikipedia.org/wiki/Monty_Hall_problem e \n",
    "Exercício 1.4.5 de http://www.portalaction.com.br/probabilidades/14-eventos-independentes-e-probabilidade-condicional"
   ]
  },
  {
   "cell_type": "code",
   "execution_count": 147,
   "metadata": {
    "collapsed": false
   },
   "outputs": [
    {
     "name": "stdout",
     "output_type": "stream",
     "text": [
      "A probabilidade de ganho é de 66.75 %\n"
     ]
    }
   ],
   "source": [
    "t2 = 0\n",
    "tres = [1,2,3]\n",
    "umdois = [1,2]\n",
    "umtres = [1,3]\n",
    "doistres = [2,3]\n",
    "ganho = 0\n",
    "\n",
    "while t2 < 10000:\n",
    "    premiada = random.choice (tres)\n",
    "    escolhida = random.choice (tres)\n",
    "\n",
    "    if escolhida == 1 and premiada == 1:\n",
    "        aberta = random.choice (doistres)\n",
    "    elif escolhida == 2 and premiada == 2:\n",
    "        aberta = random.choice (umtres)\n",
    "    elif escolhida == 3 and premiada == 3:\n",
    "        aberta = random.choice (umdois)\n",
    "    elif escolhida == 1 and premiada == 2:\n",
    "        aberta = 3\n",
    "    elif escolhida == 1 and premiada == 3:\n",
    "        aberta = 2\n",
    "    elif escolhida == 2 and premiada == 1:\n",
    "        aberta = 3\n",
    "    elif escolhida == 2 and premiada == 3:\n",
    "        aberta = 1\n",
    "    elif escolhida == 3 and premiada == 1:\n",
    "        aberta = 2\n",
    "    elif escolhida == 3 and premiada == 2:\n",
    "        aberta = 1\n",
    "\n",
    "    if escolhida == 1 and aberta == 2:\n",
    "        escolhida = 3\n",
    "    elif escolhida == 1 and aberta == 3:\n",
    "        escolhida = 2\n",
    "    elif escolhida == 2 and aberta == 1:\n",
    "        escolhida = 3\n",
    "    elif escolhida == 2 and aberta == 3:\n",
    "        escolhida = 1\n",
    "    elif escolhida == 3 and aberta == 2:\n",
    "        escolhida = 1\n",
    "    elif escolhida == 3 and aberta == 1:\n",
    "        escolhida = 2\n",
    "    if premiada == escolhida:\n",
    "        ganho += 1\n",
    "    \n",
    "    t2 += 1\n",
    "    \n",
    "print ('A probabilidade de ganho é de', ganho/t2*100, '%')"
   ]
  }
 ],
 "metadata": {
  "anaconda-cloud": {},
  "kernelspec": {
   "display_name": "Python [Root]",
   "language": "python",
   "name": "Python [Root]"
  },
  "language_info": {
   "codemirror_mode": {
    "name": "ipython",
    "version": 3
   },
   "file_extension": ".py",
   "mimetype": "text/x-python",
   "name": "python",
   "nbconvert_exporter": "python",
   "pygments_lexer": "ipython3",
   "version": "3.5.2"
  }
 },
 "nbformat": 4,
 "nbformat_minor": 0
}
