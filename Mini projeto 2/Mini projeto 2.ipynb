{
 "cells": [
  {
   "cell_type": "markdown",
   "metadata": {},
   "source": [
    "___\n",
    "# MINIPROJETO 2 - Teorema do limite central"
   ]
  },
  {
   "cell_type": "markdown",
   "metadata": {},
   "source": [
    "## <font color='red'>Paulo Tozzo, Leonardo Medeiros, Lucas Chen</font>\n",
    "___"
   ]
  },
  {
   "cell_type": "code",
   "execution_count": 3,
   "metadata": {
    "collapsed": false
   },
   "outputs": [],
   "source": [
    "%matplotlib inline\n",
    "import pandas as pd\n",
    "import matplotlib.pyplot as plt\n",
    "import numpy as np\n",
    "from scipy import stats\n",
    "import itertools"
   ]
  },
  {
   "cell_type": "markdown",
   "metadata": {},
   "source": [
    "Utilizaremos a distribuição exponencial"
   ]
  },
  {
   "cell_type": "code",
   "execution_count": 4,
   "metadata": {
    "collapsed": false
   },
   "outputs": [
    {
     "name": "stdout",
     "output_type": "stream",
     "text": [
      "1.01008286794\n",
      "1.06841748324\n"
     ]
    }
   ],
   "source": [
    "#1b sorteio aleatório de um número grande de valores da distribuição\n",
    "tamanho=1000\n",
    "\n",
    "destribuição_aleatoria_teorica = stats.expon.rvs(loc=0, scale=1, size=tamanho, random_state=None)\n",
    "da = destribuição_aleatoria_teorica\n",
    "\n",
    "#1c calculo da media e variancia desses valores\n",
    "print(np.mean(da))\n",
    "print(np.var(da))"
   ]
  },
  {
   "cell_type": "code",
   "execution_count": 5,
   "metadata": {
    "collapsed": false,
    "scrolled": true
   },
   "outputs": [
    {
     "name": "stdout",
     "output_type": "stream",
     "text": [
      "\n"
     ]
    },
    {
     "data": {
      "image/png": "[encoded data removed]",
      "text/plain": [
       "<matplotlib.figure.Figure at 0x1e1f13f5940>"
      ]
     },
     "metadata": {},
     "output_type": "display_data"
    }
   ],
   "source": [
    "#histograma da distribuição aleatória\n",
    "plt.hist(da,normed=1)\n",
    "print()"
   ]
  },
  {
   "cell_type": "code",
   "execution_count": 6,
   "metadata": {
    "collapsed": false
   },
   "outputs": [
    {
     "name": "stdout",
     "output_type": "stream",
     "text": [
      "1.78858749226\n",
      " média:  1.00789226746  mediana:  0.827657902115  variância:  0.494109419255\n"
     ]
    },
    {
     "data": {
      "image/png": "[encoded data removed]",
      "text/plain": [
       "<matplotlib.figure.Figure at 0x1e1f4e73748>"
      ]
     },
     "metadata": {},
     "output_type": "display_data"
    }
   ],
   "source": [
    "#função da distribuição da média amostral\n",
    "\n",
    "def tlc(n,tamanho,amostra_aleatoria = False):\n",
    "    \n",
    "    # X1 e X9 são necessarios para o item 4\n",
    "    X1 = []\n",
    "    X9 = []\n",
    "    \n",
    "    \n",
    "    medias = []\n",
    "    for i in range (tamanho): \n",
    "        l2 = np.random.choice(da,size=n,replace=False) # sorteamos n valores aleatórias da distribuição aleatoria (da)\n",
    "        \n",
    "        if amostra_aleatoria != False and n >= 8: # necessario para o item 4\n",
    "            X1.append(l2[0])\n",
    "            X9.append(l2[8])\n",
    "        \n",
    "        x = np.mean(l2) # cálculo da média\n",
    "        medias.append(x) # append da média em uma lista\n",
    "        \n",
    "        \n",
    "    print(x) #printa a última média calculada\n",
    "    \n",
    "    print(' média: ',np.mean(medias),\" mediana: \",np.median(medias),' variância: ',np.var(medias))\n",
    "    \n",
    "    plt.hist(medias,normed=1) # histograma das médias\n",
    "    \n",
    "    medias_medias = np.mean(medias) # cálculo da média das médias\n",
    "    medias_var = np.var(medias) # cálculo da variancia das médias\n",
    "    \n",
    "    if amostra_aleatoria != False and n>9 : # necessário para o item 4\n",
    "        return X1,X9\n",
    "    \n",
    "\n",
    "\n",
    "tlc(2,tamanho) #histograma das médias para: n=2\n"
   ]
  },
  {
   "cell_type": "markdown",
   "metadata": {
    "collapsed": true
   },
   "source": [
    "Como o n é pequeno o gráfico não se aproxima de uma normal"
   ]
  },
  {
   "cell_type": "code",
   "execution_count": 7,
   "metadata": {
    "collapsed": false
   },
   "outputs": [
    {
     "name": "stdout",
     "output_type": "stream",
     "text": [
      "1.30139243902\n",
      " média:  1.01115307776  mediana:  0.914218897724  variância:  0.256752008898\n"
     ]
    },
    {
     "data": {
      "image/png": "[encoded data removed]",
      "text/plain": [
       "<matplotlib.figure.Figure at 0x1e1f4e3e9e8>"
      ]
     },
     "metadata": {},
     "output_type": "display_data"
    }
   ],
   "source": [
    "tlc(4,tamanho) #histograma das médias para: n=4"
   ]
  },
  {
   "cell_type": "code",
   "execution_count": 8,
   "metadata": {
    "collapsed": false
   },
   "outputs": [
    {
     "name": "stdout",
     "output_type": "stream",
     "text": [
      "0.772607888976\n",
      " média:  0.997192416038  mediana:  0.979985918613  variância:  0.0507834001123\n"
     ]
    },
    {
     "data": {
      "image/png": "[encoded data removed]",
      "text/plain": [
       "<matplotlib.figure.Figure at 0x1e1f6425a58>"
      ]
     },
     "metadata": {},
     "output_type": "display_data"
    }
   ],
   "source": [
    "tlc(20,tamanho) #histograma das médias para: n=20"
   ]
  },
  {
   "cell_type": "code",
   "execution_count": 9,
   "metadata": {
    "collapsed": false
   },
   "outputs": [
    {
     "name": "stdout",
     "output_type": "stream",
     "text": [
      "1.04336767591\n",
      " média:  1.01009293411  mediana:  1.00409427043  variância:  0.0199737369584\n"
     ]
    },
    {
     "data": {
      "image/png": "[encoded data removed]",
      "text/plain": [
       "<matplotlib.figure.Figure at 0x1e1f64a60b8>"
      ]
     },
     "metadata": {},
     "output_type": "display_data"
    }
   ],
   "source": [
    "X1,X9 = tlc(50,tamanho,True) #histograma das médias para: n=50 , também captura as listas X1 e X9 para o item 4"
   ]
  },
  {
   "cell_type": "code",
   "execution_count": 10,
   "metadata": {
    "collapsed": false
   },
   "outputs": [
    {
     "name": "stdout",
     "output_type": "stream",
     "text": [
      "0.85509405122\n",
      " média:  1.01051657226  mediana:  1.00635606028  variância:  0.00956294940053\n"
     ]
    },
    {
     "data": {
      "image/png": "[encoded data removed]",
      "text/plain": [
       "<matplotlib.figure.Figure at 0x1e1f64d7ba8>"
      ]
     },
     "metadata": {},
     "output_type": "display_data"
    }
   ],
   "source": [
    "tlc(100,tamanho) #histograma das médias para: n=100"
   ]
  },
  {
   "cell_type": "markdown",
   "metadata": {},
   "source": [
    "Como vimos através dos resultados obtidos, mesmo escolhendo uma distribuição aleatória que gera um gráfico não similar a uma normal, a distribuição da média amostral se torna uma normal a partir de n = 30 se aproximando mais a esse tipo de distribuição quando n tende a infinito (suficientemente grande), ao calcular a média das médias das amostras, nessas mesmas condições, se obtém um valor mais aproximado do μ real, com maior precisão, para justificar essa modificação de comportamento pode-se comparar a média, variância e mediana para cada n diferente. Em uma normal a média e mediana são iguais, logo neste teste quando n aumenta a mediana e media se tornam cada vez mais próximas. Na mesma condição a variância tende a se tornar menor, representando a aproximação de μ real."
   ]
  },
  {
   "cell_type": "code",
   "execution_count": 11,
   "metadata": {
    "collapsed": false
   },
   "outputs": [
    {
     "name": "stdout",
     "output_type": "stream",
     "text": [
      "\n"
     ]
    },
    {
     "data": {
      "image/png": "[encoded data removed]",
      "text/plain": [
       "<matplotlib.figure.Figure at 0x1e1f65cd358>"
      ]
     },
     "metadata": {},
     "output_type": "display_data"
    }
   ],
   "source": [
    "#histograma da lista X1\n",
    "plt.hist(X1,normed=1)\n",
    "print( )"
   ]
  },
  {
   "cell_type": "code",
   "execution_count": 12,
   "metadata": {
    "collapsed": false
   },
   "outputs": [
    {
     "name": "stdout",
     "output_type": "stream",
     "text": [
      "\n"
     ]
    },
    {
     "data": {
      "image/png": "[encoded data removed]",
      "text/plain": [
       "<matplotlib.figure.Figure at 0x1e1f6580dd8>"
      ]
     },
     "metadata": {},
     "output_type": "display_data"
    }
   ],
   "source": [
    "#histograma da lista X9\n",
    "plt.hist(X9,normed=1)\n",
    "print()"
   ]
  },
  {
   "cell_type": "code",
   "execution_count": 15,
   "metadata": {
    "collapsed": false
   },
   "outputs": [
    {
     "name": "stdout",
     "output_type": "stream",
     "text": [
      "Correlação entre X1 e X9: -0.0168717372459\n"
     ]
    }
   ],
   "source": [
    "\n",
    "cv = 0\n",
    "mediaX1 = np.mean(X1)\n",
    "mediaX9 = np.mean(X9)\n",
    "\n",
    "for i in range(tamanho):\n",
    "    soma = ((X1[i]-mediaX1)*(X9[i]-mediaX9))\n",
    "    cv += soma\n",
    "    covariancia = cv/tamanho\n",
    "    \n",
    "    correlacao = covariancia/(np.var(X1) * np.var(X9))\n",
    "    \n",
    "print(\"Correlação entre X1 e X9:\", correlacao)"
   ]
  },
  {
   "cell_type": "markdown",
   "metadata": {
    "collapsed": false
   },
   "source": [
    "Através da comparação dos resultados obtidos na construção da distribuição X1 e X2 percebemos que essas distribuições são independentes entre si, como o esperado, visto que ambas são aleatórias, o que se justifica pelo valor correlação, que é muito distante de 1. Como os diversos valores de X1 e X2 sao obtidos aleatoriamente dentro da distribuição aleatoria (da), a distribuição de X1 e X2 tendem a ter o mesmo comportamento da distribuição (da)."
   ]
  }
 ],
 "metadata": {
  "anaconda-cloud": {},
  "kernelspec": {
   "display_name": "Python [Root]",
   "language": "python",
   "name": "Python [Root]"
  },
  "language_info": {
   "codemirror_mode": {
    "name": "ipython",
    "version": 3
   },
   "file_extension": ".py",
   "mimetype": "text/x-python",
   "name": "python",
   "nbconvert_exporter": "python",
   "pygments_lexer": "ipython3",
   "version": "3.5.2"
  }
 },
 "nbformat": 4,
 "nbformat_minor": 0
}
