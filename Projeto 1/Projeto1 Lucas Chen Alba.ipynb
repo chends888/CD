{
 "cells": [
  {
   "cell_type": "markdown",
   "metadata": {},
   "source": [
    "___\n",
    "# PROJETO 1"
   ]
  },
  {
   "cell_type": "markdown",
   "metadata": {},
   "source": [
    "## <font color='red'>Lucas Chen Alba</font>\n",
    "___"
   ]
  },
  {
   "cell_type": "markdown",
   "metadata": {},
   "source": [
    "## <font color='blue'>Análise de dados da população aposentada em 2014</font>"
   ]
  },
  {
   "cell_type": "markdown",
   "metadata": {},
   "source": [
    "## Introdução\n",
    "\n",
    "Neste projeto pretendo analisar a renda dos aposentados, separando-os nas diferentes regiões do Brasil, e se possível\n",
    "relacionar variáveis com a possível diferença na renda dos aposentados. Creio que as rendas dos aposentados\n",
    "refletem bastante nos seus passados então pretendo utilizar variáveis que reflitam o seu passado antes de se aposentarem.\n",
    "\n",
    "Para isto utilizei os dados disponibilizados pelo PNAD de 2014.\n"
   ]
  },
  {
   "cell_type": "markdown",
   "metadata": {},
   "source": [
    "___\n",
    "## Análise e Resultados"
   ]
  },
  {
   "cell_type": "code",
   "execution_count": 453,
   "metadata": {
    "collapsed": true
   },
   "outputs": [],
   "source": [
    "#Importando bibliotecas a serem utilizadas\n",
    "%matplotlib inline\n",
    "import pandas as pd\n",
    "import matplotlib.pyplot as plt\n",
    "import numpy as np\n",
    "import os\n",
    "from numpy import arange"
   ]
  },
  {
   "cell_type": "code",
   "execution_count": 454,
   "metadata": {
    "collapsed": false
   },
   "outputs": [
    {
     "name": "stdout",
     "output_type": "stream",
     "text": [
      "Esperamos trabalhar no diretório\n",
      "C:\\Users\\chend\\Documents\\CD\\Projeto 1\n"
     ]
    }
   ],
   "source": [
    "print('Esperamos trabalhar no diretório')\n",
    "print(os.getcwd())"
   ]
  },
  {
   "cell_type": "code",
   "execution_count": 596,
   "metadata": {
    "collapsed": false
   },
   "outputs": [],
   "source": [
    "\"\"\"Vamos ler a estrutura da PNAD como um dataframe.\n",
    "    São muitas colunas e precisamos usar a informação de tamanho para ler a PNAD de fato\n",
    "    como uma base de tamanho fixo\"\"\"\n",
    "estrutura = pd.read_table(\"pes_py.txt\", sep=\";\")"
   ]
  },
  {
   "cell_type": "code",
   "execution_count": 456,
   "metadata": {
    "collapsed": false,
    "scrolled": true
   },
   "outputs": [
    {
     "data": {
      "text/html": [
       "<div>\n",
       "<table border=\"1\" class=\"dataframe\">\n",
       "  <thead>\n",
       "    <tr style=\"text-align: right;\">\n",
       "      <th></th>\n",
       "      <th>Coluna</th>\n",
       "      <th>Tamanho</th>\n",
       "      <th>Título</th>\n",
       "    </tr>\n",
       "  </thead>\n",
       "  <tbody>\n",
       "    <tr>\n",
       "      <th>0</th>\n",
       "      <td>V0101</td>\n",
       "      <td>4</td>\n",
       "      <td>Ano de referência</td>\n",
       "    </tr>\n",
       "    <tr>\n",
       "      <th>1</th>\n",
       "      <td>UF</td>\n",
       "      <td>2</td>\n",
       "      <td>Unidade da Federação</td>\n",
       "    </tr>\n",
       "    <tr>\n",
       "      <th>2</th>\n",
       "      <td>V0102</td>\n",
       "      <td>6</td>\n",
       "      <td>Número de controle</td>\n",
       "    </tr>\n",
       "    <tr>\n",
       "      <th>3</th>\n",
       "      <td>V0103</td>\n",
       "      <td>3</td>\n",
       "      <td>Número de série</td>\n",
       "    </tr>\n",
       "    <tr>\n",
       "      <th>4</th>\n",
       "      <td>V0301</td>\n",
       "      <td>2</td>\n",
       "      <td>Número de ordem</td>\n",
       "    </tr>\n",
       "  </tbody>\n",
       "</table>\n",
       "</div>"
      ],
      "text/plain": [
       "  Coluna  Tamanho                Título\n",
       "0  V0101        4     Ano de referência\n",
       "1  UF           2  Unidade da Federação\n",
       "2  V0102        6    Número de controle\n",
       "3  V0103        3       Número de série\n",
       "4  V0301        2       Número de ordem"
      ]
     },
     "execution_count": 456,
     "metadata": {},
     "output_type": "execute_result"
    }
   ],
   "source": [
    "estrutura.head()"
   ]
  },
  {
   "cell_type": "code",
   "execution_count": 457,
   "metadata": {
    "collapsed": false
   },
   "outputs": [],
   "source": [
    "# Se quiser uma leitura mais rápida, use o arquivo descompactado. Não esqueça de adicionar ao seu .gitignore\n",
    "#pnad2014 = pd.read_fwf(\"PES2014.txt\", widths=estrutura.Tamanho, header=None)\n",
    "\n",
    "# Se quiser economizar espaço, use o arquivo Zip\n",
    "pnad2014 = pd.read_fwf(\"PES2014.zip\", widths=estrutura.Tamanho, header=None, compression=\"zip\")\n",
    "#Optei pela leitura em .zip, pois o Jupyter Notebook não aceita arquivos maiores que 25Mb,\n",
    "#se não teria utilizado o .txt pela leitura mais rápida"
   ]
  },
  {
   "cell_type": "code",
   "execution_count": 546,
   "metadata": {
    "collapsed": false
   },
   "outputs": [
    {
     "name": "stdout",
     "output_type": "stream",
     "text": [
      "38643\n"
     ]
    }
   ],
   "source": [
    "'''Definindo 'n', o número total de aposentados, que será utilizado depois para obter os dados em relação ao total,\n",
    "e não em números absolutos'''\n",
    "\n",
    "n = aposentados.shape[0]\n",
    "print (n)"
   ]
  },
  {
   "cell_type": "code",
   "execution_count": null,
   "metadata": {
    "collapsed": false
   },
   "outputs": [],
   "source": [
    "#pnad2014.head()\n",
    "#pnad2014"
   ]
  },
  {
   "cell_type": "code",
   "execution_count": 472,
   "metadata": {
    "collapsed": false
   },
   "outputs": [
    {
     "data": {
      "text/plain": [
       "Index(['Coluna', 'Tamanho', 'Título'], dtype='object')"
      ]
     },
     "execution_count": 472,
     "metadata": {},
     "output_type": "execute_result"
    }
   ],
   "source": [
    "estrutura.columns"
   ]
  },
  {
   "cell_type": "code",
   "execution_count": 473,
   "metadata": {
    "collapsed": false
   },
   "outputs": [],
   "source": [
    "pnad2014.columns = estrutura.Coluna"
   ]
  },
  {
   "cell_type": "code",
   "execution_count": 474,
   "metadata": {
    "collapsed": false
   },
   "outputs": [
    {
     "data": {
      "text/html": [
       "<div>\n",
       "<table border=\"1\" class=\"dataframe\">\n",
       "  <thead>\n",
       "    <tr style=\"text-align: right;\">\n",
       "      <th>Coluna</th>\n",
       "      <th>V0101</th>\n",
       "      <th>UF</th>\n",
       "      <th>V0102</th>\n",
       "      <th>V0103</th>\n",
       "      <th>V0301</th>\n",
       "      <th>V0302</th>\n",
       "      <th>V3031</th>\n",
       "      <th>V3032</th>\n",
       "      <th>V3033</th>\n",
       "      <th>V8005</th>\n",
       "      <th>...</th>\n",
       "      <th>V4741</th>\n",
       "      <th>V4742</th>\n",
       "      <th>V4743</th>\n",
       "      <th>V4745</th>\n",
       "      <th>V4746</th>\n",
       "      <th>V4747</th>\n",
       "      <th>V4748</th>\n",
       "      <th>V4749</th>\n",
       "      <th>V4750</th>\n",
       "      <th>V9993</th>\n",
       "    </tr>\n",
       "  </thead>\n",
       "  <tbody>\n",
       "    <tr>\n",
       "      <th>0</th>\n",
       "      <td>2014</td>\n",
       "      <td>11</td>\n",
       "      <td>15</td>\n",
       "      <td>1</td>\n",
       "      <td>1</td>\n",
       "      <td>2</td>\n",
       "      <td>19</td>\n",
       "      <td>8</td>\n",
       "      <td>1987</td>\n",
       "      <td>27</td>\n",
       "      <td>...</td>\n",
       "      <td>3.0</td>\n",
       "      <td>500.0</td>\n",
       "      <td>3.0</td>\n",
       "      <td>3</td>\n",
       "      <td>1.0</td>\n",
       "      <td>2.0</td>\n",
       "      <td>2.0</td>\n",
       "      <td>1.0</td>\n",
       "      <td>500.0</td>\n",
       "      <td>20160623</td>\n",
       "    </tr>\n",
       "    <tr>\n",
       "      <th>1</th>\n",
       "      <td>2014</td>\n",
       "      <td>11</td>\n",
       "      <td>15</td>\n",
       "      <td>1</td>\n",
       "      <td>2</td>\n",
       "      <td>4</td>\n",
       "      <td>19</td>\n",
       "      <td>1</td>\n",
       "      <td>1986</td>\n",
       "      <td>28</td>\n",
       "      <td>...</td>\n",
       "      <td>3.0</td>\n",
       "      <td>500.0</td>\n",
       "      <td>3.0</td>\n",
       "      <td>4</td>\n",
       "      <td>2.0</td>\n",
       "      <td>NaN</td>\n",
       "      <td>2.0</td>\n",
       "      <td>1.0</td>\n",
       "      <td>500.0</td>\n",
       "      <td>20160623</td>\n",
       "    </tr>\n",
       "    <tr>\n",
       "      <th>2</th>\n",
       "      <td>2014</td>\n",
       "      <td>11</td>\n",
       "      <td>15</td>\n",
       "      <td>1</td>\n",
       "      <td>3</td>\n",
       "      <td>2</td>\n",
       "      <td>14</td>\n",
       "      <td>5</td>\n",
       "      <td>2013</td>\n",
       "      <td>1</td>\n",
       "      <td>...</td>\n",
       "      <td>3.0</td>\n",
       "      <td>500.0</td>\n",
       "      <td>3.0</td>\n",
       "      <td>1</td>\n",
       "      <td>NaN</td>\n",
       "      <td>NaN</td>\n",
       "      <td>NaN</td>\n",
       "      <td>NaN</td>\n",
       "      <td>500.0</td>\n",
       "      <td>20160623</td>\n",
       "    </tr>\n",
       "    <tr>\n",
       "      <th>3</th>\n",
       "      <td>2014</td>\n",
       "      <td>11</td>\n",
       "      <td>15</td>\n",
       "      <td>2</td>\n",
       "      <td>1</td>\n",
       "      <td>2</td>\n",
       "      <td>8</td>\n",
       "      <td>4</td>\n",
       "      <td>1963</td>\n",
       "      <td>51</td>\n",
       "      <td>...</td>\n",
       "      <td>2.0</td>\n",
       "      <td>1150.0</td>\n",
       "      <td>4.0</td>\n",
       "      <td>2</td>\n",
       "      <td>1.0</td>\n",
       "      <td>2.0</td>\n",
       "      <td>2.0</td>\n",
       "      <td>1.0</td>\n",
       "      <td>1150.0</td>\n",
       "      <td>20160623</td>\n",
       "    </tr>\n",
       "    <tr>\n",
       "      <th>4</th>\n",
       "      <td>2014</td>\n",
       "      <td>11</td>\n",
       "      <td>15</td>\n",
       "      <td>2</td>\n",
       "      <td>2</td>\n",
       "      <td>4</td>\n",
       "      <td>6</td>\n",
       "      <td>11</td>\n",
       "      <td>1970</td>\n",
       "      <td>43</td>\n",
       "      <td>...</td>\n",
       "      <td>2.0</td>\n",
       "      <td>1150.0</td>\n",
       "      <td>4.0</td>\n",
       "      <td>3</td>\n",
       "      <td>1.0</td>\n",
       "      <td>2.0</td>\n",
       "      <td>2.0</td>\n",
       "      <td>1.0</td>\n",
       "      <td>1150.0</td>\n",
       "      <td>20160623</td>\n",
       "    </tr>\n",
       "  </tbody>\n",
       "</table>\n",
       "<p>5 rows × 341 columns</p>\n",
       "</div>"
      ],
      "text/plain": [
       "Coluna  V0101  UF     V0102  V0103  V0301  V0302  V3031  V3032  V3033  V8005  \\\n",
       "0        2014     11     15      1      1      2     19      8   1987     27   \n",
       "1        2014     11     15      1      2      4     19      1   1986     28   \n",
       "2        2014     11     15      1      3      2     14      5   2013      1   \n",
       "3        2014     11     15      2      1      2      8      4   1963     51   \n",
       "4        2014     11     15      2      2      4      6     11   1970     43   \n",
       "\n",
       "Coluna    ...     V4741   V4742  V4743  V4745  V4746  V4747  V4748  V4749  \\\n",
       "0         ...       3.0   500.0    3.0      3    1.0    2.0    2.0    1.0   \n",
       "1         ...       3.0   500.0    3.0      4    2.0    NaN    2.0    1.0   \n",
       "2         ...       3.0   500.0    3.0      1    NaN    NaN    NaN    NaN   \n",
       "3         ...       2.0  1150.0    4.0      2    1.0    2.0    2.0    1.0   \n",
       "4         ...       2.0  1150.0    4.0      3    1.0    2.0    2.0    1.0   \n",
       "\n",
       "Coluna   V4750     V9993  \n",
       "0        500.0  20160623  \n",
       "1        500.0  20160623  \n",
       "2        500.0  20160623  \n",
       "3       1150.0  20160623  \n",
       "4       1150.0  20160623  \n",
       "\n",
       "[5 rows x 341 columns]"
      ]
     },
     "execution_count": 474,
     "metadata": {},
     "output_type": "execute_result"
    }
   ],
   "source": [
    "pnad2014.head()"
   ]
  },
  {
   "cell_type": "code",
   "execution_count": 484,
   "metadata": {
    "collapsed": false,
    "scrolled": false
   },
   "outputs": [
    {
     "data": {
      "text/plain": [
       "(38643, 341)"
      ]
     },
     "execution_count": 484,
     "metadata": {},
     "output_type": "execute_result"
    }
   ],
   "source": [
    "#Restringindo o banco de dados para apenas os aposentados\n",
    "\n",
    "'''\n",
    "    V9122 = Era aposentado de instituto de previdência federal (INSS),\n",
    "estadual ou municipal ou do governo federal na semana de referência\n",
    "'''\n",
    "\n",
    "aposentados = pnad2014[pnad2014.V9122 == 2]\n",
    "aposentados.shape"
   ]
  },
  {
   "cell_type": "code",
   "execution_count": 558,
   "metadata": {
    "collapsed": false
   },
   "outputs": [],
   "source": [
    "aposentados.regiao = aposentados.iloc[:,1]"
   ]
  },
  {
   "cell_type": "code",
   "execution_count": 486,
   "metadata": {
    "collapsed": false
   },
   "outputs": [
    {
     "name": "stderr",
     "output_type": "stream",
     "text": [
      "C:\\Users\\chend\\Anaconda3\\lib\\site-packages\\ipykernel\\__main__.py:1: SettingWithCopyWarning: \n",
      "A value is trying to be set on a copy of a slice from a DataFrame\n",
      "\n",
      "See the caveats in the documentation: http://pandas.pydata.org/pandas-docs/stable/indexing.html#indexing-view-versus-copy\n",
      "  if __name__ == '__main__':\n"
     ]
    }
   ],
   "source": [
    "aposentados.regiao[(aposentados.regiao == 11 )| (aposentados.regiao == 12 )| (aposentados.regiao == 13 )| (aposentados.regiao == 14 )| (aposentados.regiao == 15 )| (aposentados.regiao == 16 )| (aposentados.regiao == 17)] = 'Norte'\n",
    "aposentados.regiao[(aposentados.regiao == 21 )| (aposentados.regiao == 22 )| (aposentados.regiao == 23 )| (aposentados.regiao == 24 )| (aposentados.regiao == 25 )| (aposentados.regiao == 26 )| (aposentados.regiao == 27 )| (aposentados.regiao == 28 )| (aposentados.regiao == 29)] = 'Nordeste'\n",
    "aposentados.regiao[(aposentados.regiao == 31 )| (aposentados.regiao == 32 )| (aposentados.regiao == 33 )| (aposentados.regiao == 35)] = 'Sudeste'\n",
    "aposentados.regiao[(aposentados.regiao == 41 )| (aposentados.regiao == 42 )| (aposentados.regiao == 43)] = \"Sul\"\n",
    "aposentados.regiao[(aposentados.regiao == 50 )| (aposentados.regiao == 51 )| (aposentados.regiao == 52 )| (aposentados.regiao == 53)] = 'Centroeste'"
   ]
  },
  {
   "cell_type": "code",
   "execution_count": 581,
   "metadata": {
    "collapsed": false
   },
   "outputs": [
    {
     "name": "stderr",
     "output_type": "stream",
     "text": [
      "C:\\Users\\chend\\Anaconda3\\lib\\site-packages\\pandas\\core\\generic.py:2701: SettingWithCopyWarning: \n",
      "A value is trying to be set on a copy of a slice from a DataFrame.\n",
      "Try using .loc[row_indexer,col_indexer] = value instead\n",
      "\n",
      "See the caveats in the documentation: http://pandas.pydata.org/pandas-docs/stable/indexing.html#indexing-view-versus-copy\n",
      "  self[name] = value\n"
     ]
    }
   ],
   "source": [
    "aposentados.regiao = aposentados.regiao.astype('category')\n",
    "\n",
    "#V6007 = Curso mais elevado que frequentou\n",
    "aposentados.V6007 = aposentados.V6007.astype('category')\n",
    "\n",
    "#V4803 = Anos de estudo\n",
    "aposentados.V4803 = aposentados.V4803.astype('category')\n",
    "\n"
   ]
  },
  {
   "cell_type": "code",
   "execution_count": 597,
   "metadata": {
    "collapsed": false
   },
   "outputs": [],
   "source": [
    "#aposentados.V6007.cat.categories = ['Primáro', 'Médio 1º ciclo', 'Médio 2º ciclo', 'E.fund.', 'E.médio', 'Ed. jovens e adultos e.fund.', 'Ed. jovens e adultos e. médio', 'Superior', 'Mestrado ou doutorado', 'Alfabetização de jovens e adultos', 'Creche', 'Classe de alfabetização', 'Maternal']\n",
    "\n",
    "#print('Curso mais alto frequentado:')\n",
    "#ut1 = (aposentados.V6007.value_counts()/n*100).round(decimals=1).reindex(['Primáro', 'Médio 1º ciclo', 'Médio 2º ciclo', 'E.fund.', 'E.médio', 'Ed. jovens e adultos e.fund.', 'Ed. jovens e adultos e. médio', 'Superior', 'Mestrado ou doutorado', 'Alfabetização de jovens e adultos', 'Creche', 'Classe de alfabetização', 'Maternal'])\n",
    "#print(ut1,'\\n')"
   ]
  },
  {
   "cell_type": "code",
   "execution_count": 598,
   "metadata": {
    "collapsed": false
   },
   "outputs": [],
   "source": [
    "#aposentados.V4803.cat.categories = ['Sem instrução', '1 ano', '2 anos', '3 anos', '4 anos', '5 anos', '6 anos', '7 anos', '8 anos', '9 anos', '10 anos', '11 anos', '12 anos', '13 anos', '14 anos', '15 anos', 'Não determinados']\n",
    "#aposentados.V4803.value_counts()"
   ]
  },
  {
   "cell_type": "code",
   "execution_count": 599,
   "metadata": {
    "collapsed": false
   },
   "outputs": [],
   "source": [
    "#print('Curso mais alto frequentado:')\n",
    "#ut1 = (aposentados.V6007.value_counts()/n*100).round(decimals=1).reindex(['Primáro', 'Médio 1º ciclo', 'Médio 2º ciclo', 'E.fund.', 'E.médio', 'Ed. jovens e adultos e.fund.', 'Ed. jovens e adultos e. médio', 'Superior', 'Mestrado ou doutorado', 'Alfabetização de jovens e adultos', 'Creche', 'Classe de alfabetização', 'Maternal'])\n",
    "#print(ut1,'\\n')"
   ]
  },
  {
   "cell_type": "code",
   "execution_count": 600,
   "metadata": {
    "collapsed": false
   },
   "outputs": [
    {
     "data": {
      "text/plain": [
       "'Analisando a variável renda dos aposentados, V4742 = Rendimento mensal domiciliar per capita.\\nO intuito disso é analisar a renda das diferentes regiões do Brasil, o esperado é que a renda\\ndo sudeste seja maior do que as demais regiões'"
      ]
     },
     "execution_count": 600,
     "metadata": {},
     "output_type": "execute_result"
    }
   ],
   "source": [
    "'''Analisando a variável renda dos aposentados, V4742 = Rendimento mensal domiciliar per capita.\n",
    "O intuito disso é analisar a renda das diferentes regiões do Brasil, o esperado é que a renda\n",
    "do sudeste seja maior do que as demais regiões'''\n",
    "\n",
    "#aposentados.V4742.value_counts().head(15)"
   ]
  },
  {
   "cell_type": "code",
   "execution_count": 602,
   "metadata": {
    "collapsed": false
   },
   "outputs": [
    {
     "name": "stderr",
     "output_type": "stream",
     "text": [
      "C:\\Users\\chend\\Anaconda3\\lib\\site-packages\\numpy\\lib\\function_base.py:3834: RuntimeWarning: Invalid value encountered in percentile\n",
      "  RuntimeWarning)\n"
     ]
    },
    {
     "data": {
      "text/plain": [
       "count    3.861400e+04\n",
       "mean     4.529445e+10\n",
       "std      2.079519e+11\n",
       "min      8.000000e+01\n",
       "25%               NaN\n",
       "50%               NaN\n",
       "75%               NaN\n",
       "max      1.000000e+12\n",
       "Name: V4742, dtype: float64"
      ]
     },
     "execution_count": 602,
     "metadata": {},
     "output_type": "execute_result"
    }
   ],
   "source": [
    "aposentados.V4742.describe()"
   ]
  },
  {
   "cell_type": "code",
   "execution_count": 559,
   "metadata": {
    "collapsed": false
   },
   "outputs": [],
   "source": [
    "#Definindo as faixas de renda a serem analisadas\n",
    "\n",
    "faixa1 = arange(0, 3000, 100)\n",
    "#faixa = range(5, 100, 5)\n",
    "rendafaixas = pd.cut(aposentados.V4742, faixa1)"
   ]
  },
  {
   "cell_type": "code",
   "execution_count": 511,
   "metadata": {
    "collapsed": false
   },
   "outputs": [
    {
     "data": {
      "text/plain": [
       "Sudeste       12537\n",
       "Nordeste      10918\n",
       "Sul            7941\n",
       "Norte          3990\n",
       "Centroeste     3257\n",
       "Name: UF   , dtype: int64"
      ]
     },
     "execution_count": 511,
     "metadata": {},
     "output_type": "execute_result"
    }
   ],
   "source": [
    "aposentados.regiao.value_counts()"
   ]
  },
  {
   "cell_type": "code",
   "execution_count": 529,
   "metadata": {
    "collapsed": false
   },
   "outputs": [
    {
     "data": {
      "text/html": [
       "<div>\n",
       "<table border=\"1\" class=\"dataframe\">\n",
       "  <thead>\n",
       "    <tr style=\"text-align: right;\">\n",
       "      <th>V4742</th>\n",
       "      <th>(0, 100]</th>\n",
       "      <th>(100, 200]</th>\n",
       "      <th>(200, 300]</th>\n",
       "      <th>(300, 400]</th>\n",
       "      <th>(400, 500]</th>\n",
       "      <th>(500, 600]</th>\n",
       "      <th>(600, 700]</th>\n",
       "      <th>(700, 800]</th>\n",
       "      <th>(800, 900]</th>\n",
       "      <th>(900, 1000]</th>\n",
       "      <th>...</th>\n",
       "      <th>(1900, 2000]</th>\n",
       "      <th>(2000, 2100]</th>\n",
       "      <th>(2100, 2200]</th>\n",
       "      <th>(2200, 2300]</th>\n",
       "      <th>(2300, 2400]</th>\n",
       "      <th>(2400, 2500]</th>\n",
       "      <th>(2500, 2600]</th>\n",
       "      <th>(2600, 2700]</th>\n",
       "      <th>(2700, 2800]</th>\n",
       "      <th>(2800, 2900]</th>\n",
       "    </tr>\n",
       "    <tr>\n",
       "      <th>UF</th>\n",
       "      <th></th>\n",
       "      <th></th>\n",
       "      <th></th>\n",
       "      <th></th>\n",
       "      <th></th>\n",
       "      <th></th>\n",
       "      <th></th>\n",
       "      <th></th>\n",
       "      <th></th>\n",
       "      <th></th>\n",
       "      <th></th>\n",
       "      <th></th>\n",
       "      <th></th>\n",
       "      <th></th>\n",
       "      <th></th>\n",
       "      <th></th>\n",
       "      <th></th>\n",
       "      <th></th>\n",
       "      <th></th>\n",
       "      <th></th>\n",
       "      <th></th>\n",
       "    </tr>\n",
       "  </thead>\n",
       "  <tbody>\n",
       "    <tr>\n",
       "      <th>Centroeste</th>\n",
       "      <td>0</td>\n",
       "      <td>14</td>\n",
       "      <td>45</td>\n",
       "      <td>126</td>\n",
       "      <td>131</td>\n",
       "      <td>124</td>\n",
       "      <td>134</td>\n",
       "      <td>671</td>\n",
       "      <td>169</td>\n",
       "      <td>146</td>\n",
       "      <td>...</td>\n",
       "      <td>45</td>\n",
       "      <td>30</td>\n",
       "      <td>25</td>\n",
       "      <td>25</td>\n",
       "      <td>28</td>\n",
       "      <td>33</td>\n",
       "      <td>10</td>\n",
       "      <td>15</td>\n",
       "      <td>18</td>\n",
       "      <td>21</td>\n",
       "    </tr>\n",
       "    <tr>\n",
       "      <th>Nordeste</th>\n",
       "      <td>2</td>\n",
       "      <td>137</td>\n",
       "      <td>475</td>\n",
       "      <td>943</td>\n",
       "      <td>1045</td>\n",
       "      <td>860</td>\n",
       "      <td>521</td>\n",
       "      <td>2705</td>\n",
       "      <td>530</td>\n",
       "      <td>414</td>\n",
       "      <td>...</td>\n",
       "      <td>92</td>\n",
       "      <td>58</td>\n",
       "      <td>54</td>\n",
       "      <td>39</td>\n",
       "      <td>45</td>\n",
       "      <td>46</td>\n",
       "      <td>18</td>\n",
       "      <td>37</td>\n",
       "      <td>26</td>\n",
       "      <td>34</td>\n",
       "    </tr>\n",
       "    <tr>\n",
       "      <th>Norte</th>\n",
       "      <td>0</td>\n",
       "      <td>68</td>\n",
       "      <td>160</td>\n",
       "      <td>339</td>\n",
       "      <td>352</td>\n",
       "      <td>287</td>\n",
       "      <td>233</td>\n",
       "      <td>909</td>\n",
       "      <td>205</td>\n",
       "      <td>157</td>\n",
       "      <td>...</td>\n",
       "      <td>32</td>\n",
       "      <td>27</td>\n",
       "      <td>30</td>\n",
       "      <td>20</td>\n",
       "      <td>14</td>\n",
       "      <td>16</td>\n",
       "      <td>9</td>\n",
       "      <td>13</td>\n",
       "      <td>18</td>\n",
       "      <td>13</td>\n",
       "    </tr>\n",
       "    <tr>\n",
       "      <th>Sudeste</th>\n",
       "      <td>0</td>\n",
       "      <td>39</td>\n",
       "      <td>167</td>\n",
       "      <td>493</td>\n",
       "      <td>452</td>\n",
       "      <td>468</td>\n",
       "      <td>424</td>\n",
       "      <td>2124</td>\n",
       "      <td>702</td>\n",
       "      <td>697</td>\n",
       "      <td>...</td>\n",
       "      <td>226</td>\n",
       "      <td>120</td>\n",
       "      <td>154</td>\n",
       "      <td>133</td>\n",
       "      <td>104</td>\n",
       "      <td>117</td>\n",
       "      <td>88</td>\n",
       "      <td>91</td>\n",
       "      <td>108</td>\n",
       "      <td>83</td>\n",
       "    </tr>\n",
       "    <tr>\n",
       "      <th>Sul</th>\n",
       "      <td>0</td>\n",
       "      <td>23</td>\n",
       "      <td>65</td>\n",
       "      <td>218</td>\n",
       "      <td>217</td>\n",
       "      <td>241</td>\n",
       "      <td>229</td>\n",
       "      <td>1480</td>\n",
       "      <td>465</td>\n",
       "      <td>438</td>\n",
       "      <td>...</td>\n",
       "      <td>148</td>\n",
       "      <td>111</td>\n",
       "      <td>96</td>\n",
       "      <td>98</td>\n",
       "      <td>63</td>\n",
       "      <td>62</td>\n",
       "      <td>54</td>\n",
       "      <td>40</td>\n",
       "      <td>64</td>\n",
       "      <td>45</td>\n",
       "    </tr>\n",
       "  </tbody>\n",
       "</table>\n",
       "<p>5 rows × 29 columns</p>\n",
       "</div>"
      ],
      "text/plain": [
       "V4742       (0, 100]  (100, 200]  (200, 300]  (300, 400]  (400, 500]  \\\n",
       "UF                                                                     \n",
       "Centroeste         0          14          45         126         131   \n",
       "Nordeste           2         137         475         943        1045   \n",
       "Norte              0          68         160         339         352   \n",
       "Sudeste            0          39         167         493         452   \n",
       "Sul                0          23          65         218         217   \n",
       "\n",
       "V4742       (500, 600]  (600, 700]  (700, 800]  (800, 900]  (900, 1000]  \\\n",
       "UF                                                                        \n",
       "Centroeste         124         134         671         169          146   \n",
       "Nordeste           860         521        2705         530          414   \n",
       "Norte              287         233         909         205          157   \n",
       "Sudeste            468         424        2124         702          697   \n",
       "Sul                241         229        1480         465          438   \n",
       "\n",
       "V4742           ...       (1900, 2000]  (2000, 2100]  (2100, 2200]  \\\n",
       "UF              ...                                                  \n",
       "Centroeste      ...                 45            30            25   \n",
       "Nordeste        ...                 92            58            54   \n",
       "Norte           ...                 32            27            30   \n",
       "Sudeste         ...                226           120           154   \n",
       "Sul             ...                148           111            96   \n",
       "\n",
       "V4742       (2200, 2300]  (2300, 2400]  (2400, 2500]  (2500, 2600]  \\\n",
       "UF                                                                   \n",
       "Centroeste            25            28            33            10   \n",
       "Nordeste              39            45            46            18   \n",
       "Norte                 20            14            16             9   \n",
       "Sudeste              133           104           117            88   \n",
       "Sul                   98            63            62            54   \n",
       "\n",
       "V4742       (2600, 2700]  (2700, 2800]  (2800, 2900]  \n",
       "UF                                                    \n",
       "Centroeste            15            18            21  \n",
       "Nordeste              37            26            34  \n",
       "Norte                 13            18            13  \n",
       "Sudeste               91           108            83  \n",
       "Sul                   40            64            45  \n",
       "\n",
       "[5 rows x 29 columns]"
      ]
     },
     "execution_count": 529,
     "metadata": {},
     "output_type": "execute_result"
    }
   ],
   "source": [
    "#Gerando a tabela de renda x região\n",
    "\n",
    "ct1 = pd.crosstab(aposentados.regiao, rendafaixas,margins=False)\n",
    "ct1"
   ]
  },
  {
   "cell_type": "code",
   "execution_count": 530,
   "metadata": {
    "collapsed": false
   },
   "outputs": [
    {
     "data": {
      "text/html": [
       "<div>\n",
       "<table border=\"1\" class=\"dataframe\">\n",
       "  <thead>\n",
       "    <tr style=\"text-align: right;\">\n",
       "      <th>V4742</th>\n",
       "      <th>(0, 100]</th>\n",
       "      <th>(100, 200]</th>\n",
       "      <th>(200, 300]</th>\n",
       "      <th>(300, 400]</th>\n",
       "      <th>(400, 500]</th>\n",
       "      <th>(500, 600]</th>\n",
       "      <th>(600, 700]</th>\n",
       "      <th>(700, 800]</th>\n",
       "      <th>(800, 900]</th>\n",
       "      <th>(900, 1000]</th>\n",
       "      <th>...</th>\n",
       "      <th>(1900, 2000]</th>\n",
       "      <th>(2000, 2100]</th>\n",
       "      <th>(2100, 2200]</th>\n",
       "      <th>(2200, 2300]</th>\n",
       "      <th>(2300, 2400]</th>\n",
       "      <th>(2400, 2500]</th>\n",
       "      <th>(2500, 2600]</th>\n",
       "      <th>(2600, 2700]</th>\n",
       "      <th>(2700, 2800]</th>\n",
       "      <th>(2800, 2900]</th>\n",
       "    </tr>\n",
       "    <tr>\n",
       "      <th>UF</th>\n",
       "      <th></th>\n",
       "      <th></th>\n",
       "      <th></th>\n",
       "      <th></th>\n",
       "      <th></th>\n",
       "      <th></th>\n",
       "      <th></th>\n",
       "      <th></th>\n",
       "      <th></th>\n",
       "      <th></th>\n",
       "      <th></th>\n",
       "      <th></th>\n",
       "      <th></th>\n",
       "      <th></th>\n",
       "      <th></th>\n",
       "      <th></th>\n",
       "      <th></th>\n",
       "      <th></th>\n",
       "      <th></th>\n",
       "      <th></th>\n",
       "      <th></th>\n",
       "    </tr>\n",
       "  </thead>\n",
       "  <tbody>\n",
       "    <tr>\n",
       "      <th>Centroeste</th>\n",
       "      <td>0.00</td>\n",
       "      <td>0.04</td>\n",
       "      <td>0.12</td>\n",
       "      <td>0.33</td>\n",
       "      <td>0.34</td>\n",
       "      <td>0.32</td>\n",
       "      <td>0.35</td>\n",
       "      <td>1.74</td>\n",
       "      <td>0.44</td>\n",
       "      <td>0.38</td>\n",
       "      <td>...</td>\n",
       "      <td>0.12</td>\n",
       "      <td>0.08</td>\n",
       "      <td>0.06</td>\n",
       "      <td>0.06</td>\n",
       "      <td>0.07</td>\n",
       "      <td>0.09</td>\n",
       "      <td>0.03</td>\n",
       "      <td>0.04</td>\n",
       "      <td>0.05</td>\n",
       "      <td>0.05</td>\n",
       "    </tr>\n",
       "    <tr>\n",
       "      <th>Nordeste</th>\n",
       "      <td>0.01</td>\n",
       "      <td>0.35</td>\n",
       "      <td>1.23</td>\n",
       "      <td>2.44</td>\n",
       "      <td>2.70</td>\n",
       "      <td>2.23</td>\n",
       "      <td>1.35</td>\n",
       "      <td>7.00</td>\n",
       "      <td>1.37</td>\n",
       "      <td>1.07</td>\n",
       "      <td>...</td>\n",
       "      <td>0.24</td>\n",
       "      <td>0.15</td>\n",
       "      <td>0.14</td>\n",
       "      <td>0.10</td>\n",
       "      <td>0.12</td>\n",
       "      <td>0.12</td>\n",
       "      <td>0.05</td>\n",
       "      <td>0.10</td>\n",
       "      <td>0.07</td>\n",
       "      <td>0.09</td>\n",
       "    </tr>\n",
       "    <tr>\n",
       "      <th>Norte</th>\n",
       "      <td>0.00</td>\n",
       "      <td>0.18</td>\n",
       "      <td>0.41</td>\n",
       "      <td>0.88</td>\n",
       "      <td>0.91</td>\n",
       "      <td>0.74</td>\n",
       "      <td>0.60</td>\n",
       "      <td>2.35</td>\n",
       "      <td>0.53</td>\n",
       "      <td>0.41</td>\n",
       "      <td>...</td>\n",
       "      <td>0.08</td>\n",
       "      <td>0.07</td>\n",
       "      <td>0.08</td>\n",
       "      <td>0.05</td>\n",
       "      <td>0.04</td>\n",
       "      <td>0.04</td>\n",
       "      <td>0.02</td>\n",
       "      <td>0.03</td>\n",
       "      <td>0.05</td>\n",
       "      <td>0.03</td>\n",
       "    </tr>\n",
       "    <tr>\n",
       "      <th>Sudeste</th>\n",
       "      <td>0.00</td>\n",
       "      <td>0.10</td>\n",
       "      <td>0.43</td>\n",
       "      <td>1.28</td>\n",
       "      <td>1.17</td>\n",
       "      <td>1.21</td>\n",
       "      <td>1.10</td>\n",
       "      <td>5.50</td>\n",
       "      <td>1.82</td>\n",
       "      <td>1.80</td>\n",
       "      <td>...</td>\n",
       "      <td>0.58</td>\n",
       "      <td>0.31</td>\n",
       "      <td>0.40</td>\n",
       "      <td>0.34</td>\n",
       "      <td>0.27</td>\n",
       "      <td>0.30</td>\n",
       "      <td>0.23</td>\n",
       "      <td>0.24</td>\n",
       "      <td>0.28</td>\n",
       "      <td>0.21</td>\n",
       "    </tr>\n",
       "    <tr>\n",
       "      <th>Sul</th>\n",
       "      <td>0.00</td>\n",
       "      <td>0.06</td>\n",
       "      <td>0.17</td>\n",
       "      <td>0.56</td>\n",
       "      <td>0.56</td>\n",
       "      <td>0.62</td>\n",
       "      <td>0.59</td>\n",
       "      <td>3.83</td>\n",
       "      <td>1.20</td>\n",
       "      <td>1.13</td>\n",
       "      <td>...</td>\n",
       "      <td>0.38</td>\n",
       "      <td>0.29</td>\n",
       "      <td>0.25</td>\n",
       "      <td>0.25</td>\n",
       "      <td>0.16</td>\n",
       "      <td>0.16</td>\n",
       "      <td>0.14</td>\n",
       "      <td>0.10</td>\n",
       "      <td>0.17</td>\n",
       "      <td>0.12</td>\n",
       "    </tr>\n",
       "  </tbody>\n",
       "</table>\n",
       "<p>5 rows × 29 columns</p>\n",
       "</div>"
      ],
      "text/plain": [
       "V4742       (0, 100]  (100, 200]  (200, 300]  (300, 400]  (400, 500]  \\\n",
       "UF                                                                     \n",
       "Centroeste      0.00        0.04        0.12        0.33        0.34   \n",
       "Nordeste        0.01        0.35        1.23        2.44        2.70   \n",
       "Norte           0.00        0.18        0.41        0.88        0.91   \n",
       "Sudeste         0.00        0.10        0.43        1.28        1.17   \n",
       "Sul             0.00        0.06        0.17        0.56        0.56   \n",
       "\n",
       "V4742       (500, 600]  (600, 700]  (700, 800]  (800, 900]  (900, 1000]  \\\n",
       "UF                                                                        \n",
       "Centroeste        0.32        0.35        1.74        0.44         0.38   \n",
       "Nordeste          2.23        1.35        7.00        1.37         1.07   \n",
       "Norte             0.74        0.60        2.35        0.53         0.41   \n",
       "Sudeste           1.21        1.10        5.50        1.82         1.80   \n",
       "Sul               0.62        0.59        3.83        1.20         1.13   \n",
       "\n",
       "V4742           ...       (1900, 2000]  (2000, 2100]  (2100, 2200]  \\\n",
       "UF              ...                                                  \n",
       "Centroeste      ...               0.12          0.08          0.06   \n",
       "Nordeste        ...               0.24          0.15          0.14   \n",
       "Norte           ...               0.08          0.07          0.08   \n",
       "Sudeste         ...               0.58          0.31          0.40   \n",
       "Sul             ...               0.38          0.29          0.25   \n",
       "\n",
       "V4742       (2200, 2300]  (2300, 2400]  (2400, 2500]  (2500, 2600]  \\\n",
       "UF                                                                   \n",
       "Centroeste          0.06          0.07          0.09          0.03   \n",
       "Nordeste            0.10          0.12          0.12          0.05   \n",
       "Norte               0.05          0.04          0.04          0.02   \n",
       "Sudeste             0.34          0.27          0.30          0.23   \n",
       "Sul                 0.25          0.16          0.16          0.14   \n",
       "\n",
       "V4742       (2600, 2700]  (2700, 2800]  (2800, 2900]  \n",
       "UF                                                    \n",
       "Centroeste          0.04          0.05          0.05  \n",
       "Nordeste            0.10          0.07          0.09  \n",
       "Norte               0.03          0.05          0.03  \n",
       "Sudeste             0.24          0.28          0.21  \n",
       "Sul                 0.10          0.17          0.12  \n",
       "\n",
       "[5 rows x 29 columns]"
      ]
     },
     "execution_count": 530,
     "metadata": {},
     "output_type": "execute_result"
    }
   ],
   "source": [
    "#Agora gerando-a com valores relativos ao total de aposentados\n",
    "\n",
    "ct1r = (ct1/len(aposentados)*100).round(decimals=2)\n",
    "ct1r"
   ]
  },
  {
   "cell_type": "code",
   "execution_count": 531,
   "metadata": {
    "collapsed": false
   },
   "outputs": [
    {
     "data": {
      "text/plain": [
       "<matplotlib.text.Text at 0x1c810658fd0>"
      ]
     },
     "execution_count": 531,
     "metadata": {},
     "output_type": "execute_result"
    },
    {
     "data": {
      "image/png": "[encoded data removed]",
      "text/plain": [
       "<matplotlib.figure.Figure at 0x1c81068ae48>"
      ]
     },
     "metadata": {},
     "output_type": "display_data"
    }
   ],
   "source": [
    "#Gerando gráfico região x renda\n",
    "\n",
    "plot1r = ct1r.plot(kind='bar', figsize=(20,8))\n",
    "plt.ylabel('Freq.Relativa')"
   ]
  },
  {
   "cell_type": "code",
   "execution_count": 524,
   "metadata": {
    "collapsed": false
   },
   "outputs": [
    {
     "data": {
      "text/plain": [
       "'De acordo com os resultados obtidos o sudeste realmente apresenta a maior renda, porém o sul também\\napresenta uma renda alta em relação às demais regiões, então a partir de agora o objetivo é tentar relacionar\\noutras variáveis fornecidas pelo PNAD 2014 com esta diferença na renda dos aposentados'"
      ]
     },
     "execution_count": 524,
     "metadata": {},
     "output_type": "execute_result"
    }
   ],
   "source": [
    "'''De acordo com os resultados obtidos o sudeste realmente apresenta a maior renda, porém o sul também\n",
    "apresenta uma renda alta em relação às demais regiões, portanto a partir de agora o objetivo é tentar relacionar\n",
    "outras variáveis fornecidas pelo PNAD 2014 com esta diferença na renda dos aposentados da região sul e sudeste com\n",
    "as demais regiões'''"
   ]
  },
  {
   "cell_type": "code",
   "execution_count": 603,
   "metadata": {
    "collapsed": false,
    "scrolled": true
   },
   "outputs": [],
   "source": [
    "#Testando o V6007, curso mais elevado realizados pelos pesquisados\n",
    "#aposentados.V6007.value_counts()"
   ]
  },
  {
   "cell_type": "code",
   "execution_count": 572,
   "metadata": {
    "collapsed": false,
    "scrolled": true
   },
   "outputs": [
    {
     "data": {
      "text/html": [
       "<div>\n",
       "<table border=\"1\" class=\"dataframe\">\n",
       "  <thead>\n",
       "    <tr style=\"text-align: right;\">\n",
       "      <th>V6007</th>\n",
       "      <th>1.0</th>\n",
       "      <th>2.0</th>\n",
       "      <th>3.0</th>\n",
       "      <th>4.0</th>\n",
       "      <th>5.0</th>\n",
       "      <th>6.0</th>\n",
       "      <th>7.0</th>\n",
       "      <th>8.0</th>\n",
       "      <th>9.0</th>\n",
       "      <th>10.0</th>\n",
       "      <th>11.0</th>\n",
       "      <th>12.0</th>\n",
       "      <th>13.0</th>\n",
       "    </tr>\n",
       "    <tr>\n",
       "      <th>UF</th>\n",
       "      <th></th>\n",
       "      <th></th>\n",
       "      <th></th>\n",
       "      <th></th>\n",
       "      <th></th>\n",
       "      <th></th>\n",
       "      <th></th>\n",
       "      <th></th>\n",
       "      <th></th>\n",
       "      <th></th>\n",
       "      <th></th>\n",
       "      <th></th>\n",
       "      <th></th>\n",
       "    </tr>\n",
       "  </thead>\n",
       "  <tbody>\n",
       "    <tr>\n",
       "      <th>Centroeste</th>\n",
       "      <td>1132</td>\n",
       "      <td>205</td>\n",
       "      <td>170</td>\n",
       "      <td>275</td>\n",
       "      <td>240</td>\n",
       "      <td>39</td>\n",
       "      <td>29</td>\n",
       "      <td>432</td>\n",
       "      <td>39</td>\n",
       "      <td>12</td>\n",
       "      <td>0</td>\n",
       "      <td>24</td>\n",
       "      <td>0</td>\n",
       "    </tr>\n",
       "    <tr>\n",
       "      <th>Nordeste</th>\n",
       "      <td>3657</td>\n",
       "      <td>608</td>\n",
       "      <td>595</td>\n",
       "      <td>758</td>\n",
       "      <td>657</td>\n",
       "      <td>155</td>\n",
       "      <td>72</td>\n",
       "      <td>816</td>\n",
       "      <td>42</td>\n",
       "      <td>187</td>\n",
       "      <td>1</td>\n",
       "      <td>388</td>\n",
       "      <td>4</td>\n",
       "    </tr>\n",
       "    <tr>\n",
       "      <th>Norte</th>\n",
       "      <td>1491</td>\n",
       "      <td>196</td>\n",
       "      <td>162</td>\n",
       "      <td>327</td>\n",
       "      <td>300</td>\n",
       "      <td>58</td>\n",
       "      <td>19</td>\n",
       "      <td>289</td>\n",
       "      <td>16</td>\n",
       "      <td>26</td>\n",
       "      <td>0</td>\n",
       "      <td>33</td>\n",
       "      <td>1</td>\n",
       "    </tr>\n",
       "    <tr>\n",
       "      <th>Sudeste</th>\n",
       "      <td>4843</td>\n",
       "      <td>1086</td>\n",
       "      <td>902</td>\n",
       "      <td>887</td>\n",
       "      <td>1082</td>\n",
       "      <td>138</td>\n",
       "      <td>179</td>\n",
       "      <td>1894</td>\n",
       "      <td>89</td>\n",
       "      <td>59</td>\n",
       "      <td>0</td>\n",
       "      <td>36</td>\n",
       "      <td>0</td>\n",
       "    </tr>\n",
       "    <tr>\n",
       "      <th>Sul</th>\n",
       "      <td>3690</td>\n",
       "      <td>613</td>\n",
       "      <td>381</td>\n",
       "      <td>640</td>\n",
       "      <td>696</td>\n",
       "      <td>84</td>\n",
       "      <td>119</td>\n",
       "      <td>968</td>\n",
       "      <td>63</td>\n",
       "      <td>27</td>\n",
       "      <td>0</td>\n",
       "      <td>12</td>\n",
       "      <td>1</td>\n",
       "    </tr>\n",
       "  </tbody>\n",
       "</table>\n",
       "</div>"
      ],
      "text/plain": [
       "V6007       1.0   2.0   3.0   4.0   5.0   6.0   7.0   8.0   9.0   10.0  11.0  \\\n",
       "UF                                                                             \n",
       "Centroeste  1132   205   170   275   240    39    29   432    39    12     0   \n",
       "Nordeste    3657   608   595   758   657   155    72   816    42   187     1   \n",
       "Norte       1491   196   162   327   300    58    19   289    16    26     0   \n",
       "Sudeste     4843  1086   902   887  1082   138   179  1894    89    59     0   \n",
       "Sul         3690   613   381   640   696    84   119   968    63    27     0   \n",
       "\n",
       "V6007       12.0  13.0  \n",
       "UF                      \n",
       "Centroeste    24     0  \n",
       "Nordeste     388     4  \n",
       "Norte         33     1  \n",
       "Sudeste       36     0  \n",
       "Sul           12     1  "
      ]
     },
     "execution_count": 572,
     "metadata": {},
     "output_type": "execute_result"
    }
   ],
   "source": [
    "#Gerando a tabela de região x curso mais elevado realizado\n",
    "\n",
    "ct2 = pd.crosstab(aposentados.regiao, aposentados.V6007,margins=False)\n",
    "ct2"
   ]
  },
  {
   "cell_type": "code",
   "execution_count": 551,
   "metadata": {
    "collapsed": false,
    "scrolled": true
   },
   "outputs": [
    {
     "data": {
      "text/html": [
       "<div>\n",
       "<table border=\"1\" class=\"dataframe\">\n",
       "  <thead>\n",
       "    <tr style=\"text-align: right;\">\n",
       "      <th>V6007</th>\n",
       "      <th>1.0</th>\n",
       "      <th>2.0</th>\n",
       "      <th>3.0</th>\n",
       "      <th>4.0</th>\n",
       "      <th>5.0</th>\n",
       "      <th>6.0</th>\n",
       "      <th>7.0</th>\n",
       "      <th>8.0</th>\n",
       "      <th>9.0</th>\n",
       "      <th>10.0</th>\n",
       "      <th>11.0</th>\n",
       "      <th>12.0</th>\n",
       "      <th>13.0</th>\n",
       "    </tr>\n",
       "    <tr>\n",
       "      <th>UF</th>\n",
       "      <th></th>\n",
       "      <th></th>\n",
       "      <th></th>\n",
       "      <th></th>\n",
       "      <th></th>\n",
       "      <th></th>\n",
       "      <th></th>\n",
       "      <th></th>\n",
       "      <th></th>\n",
       "      <th></th>\n",
       "      <th></th>\n",
       "      <th></th>\n",
       "      <th></th>\n",
       "    </tr>\n",
       "  </thead>\n",
       "  <tbody>\n",
       "    <tr>\n",
       "      <th>Centroeste</th>\n",
       "      <td>2.929</td>\n",
       "      <td>0.530</td>\n",
       "      <td>0.440</td>\n",
       "      <td>0.712</td>\n",
       "      <td>0.621</td>\n",
       "      <td>0.101</td>\n",
       "      <td>0.075</td>\n",
       "      <td>1.118</td>\n",
       "      <td>0.101</td>\n",
       "      <td>0.031</td>\n",
       "      <td>0.000</td>\n",
       "      <td>0.062</td>\n",
       "      <td>0.000</td>\n",
       "    </tr>\n",
       "    <tr>\n",
       "      <th>Nordeste</th>\n",
       "      <td>9.464</td>\n",
       "      <td>1.573</td>\n",
       "      <td>1.540</td>\n",
       "      <td>1.962</td>\n",
       "      <td>1.700</td>\n",
       "      <td>0.401</td>\n",
       "      <td>0.186</td>\n",
       "      <td>2.112</td>\n",
       "      <td>0.109</td>\n",
       "      <td>0.484</td>\n",
       "      <td>0.003</td>\n",
       "      <td>1.004</td>\n",
       "      <td>0.010</td>\n",
       "    </tr>\n",
       "    <tr>\n",
       "      <th>Norte</th>\n",
       "      <td>3.858</td>\n",
       "      <td>0.507</td>\n",
       "      <td>0.419</td>\n",
       "      <td>0.846</td>\n",
       "      <td>0.776</td>\n",
       "      <td>0.150</td>\n",
       "      <td>0.049</td>\n",
       "      <td>0.748</td>\n",
       "      <td>0.041</td>\n",
       "      <td>0.067</td>\n",
       "      <td>0.000</td>\n",
       "      <td>0.085</td>\n",
       "      <td>0.003</td>\n",
       "    </tr>\n",
       "    <tr>\n",
       "      <th>Sudeste</th>\n",
       "      <td>12.533</td>\n",
       "      <td>2.810</td>\n",
       "      <td>2.334</td>\n",
       "      <td>2.295</td>\n",
       "      <td>2.800</td>\n",
       "      <td>0.357</td>\n",
       "      <td>0.463</td>\n",
       "      <td>4.901</td>\n",
       "      <td>0.230</td>\n",
       "      <td>0.153</td>\n",
       "      <td>0.000</td>\n",
       "      <td>0.093</td>\n",
       "      <td>0.000</td>\n",
       "    </tr>\n",
       "    <tr>\n",
       "      <th>Sul</th>\n",
       "      <td>9.549</td>\n",
       "      <td>1.586</td>\n",
       "      <td>0.986</td>\n",
       "      <td>1.656</td>\n",
       "      <td>1.801</td>\n",
       "      <td>0.217</td>\n",
       "      <td>0.308</td>\n",
       "      <td>2.505</td>\n",
       "      <td>0.163</td>\n",
       "      <td>0.070</td>\n",
       "      <td>0.000</td>\n",
       "      <td>0.031</td>\n",
       "      <td>0.003</td>\n",
       "    </tr>\n",
       "  </tbody>\n",
       "</table>\n",
       "</div>"
      ],
      "text/plain": [
       "V6007         1.0    2.0    3.0    4.0    5.0    6.0    7.0    8.0    9.0   \\\n",
       "UF                                                                           \n",
       "Centroeste   2.929  0.530  0.440  0.712  0.621  0.101  0.075  1.118  0.101   \n",
       "Nordeste     9.464  1.573  1.540  1.962  1.700  0.401  0.186  2.112  0.109   \n",
       "Norte        3.858  0.507  0.419  0.846  0.776  0.150  0.049  0.748  0.041   \n",
       "Sudeste     12.533  2.810  2.334  2.295  2.800  0.357  0.463  4.901  0.230   \n",
       "Sul          9.549  1.586  0.986  1.656  1.801  0.217  0.308  2.505  0.163   \n",
       "\n",
       "V6007        10.0   11.0   12.0   13.0  \n",
       "UF                                      \n",
       "Centroeste  0.031  0.000  0.062  0.000  \n",
       "Nordeste    0.484  0.003  1.004  0.010  \n",
       "Norte       0.067  0.000  0.085  0.003  \n",
       "Sudeste     0.153  0.000  0.093  0.000  \n",
       "Sul         0.070  0.000  0.031  0.003  "
      ]
     },
     "execution_count": 551,
     "metadata": {},
     "output_type": "execute_result"
    }
   ],
   "source": [
    "#Agora gerando-a com valores relativos ao total de aposentados\n",
    "\n",
    "ct2r = (ct2/len(aposentados)*100).round(decimals=3)\n",
    "ct2r"
   ]
  },
  {
   "cell_type": "code",
   "execution_count": 574,
   "metadata": {
    "collapsed": false
   },
   "outputs": [
    {
     "data": {
      "text/plain": [
       "<matplotlib.text.Text at 0x1c813d212b0>"
      ]
     },
     "execution_count": 574,
     "metadata": {},
     "output_type": "execute_result"
    },
    {
     "data": {
      "image/png": "[encoded data removed]",
      "text/plain": [
       "<matplotlib.figure.Figure at 0x1c813cef240>"
      ]
     },
     "metadata": {},
     "output_type": "display_data"
    }
   ],
   "source": [
    "#Gráfico com as frequências relativas do curso amis elevado atendido pelos aposentados\n",
    "\n",
    "plot2r = ct2r.plot(kind='bar', figsize=(20,8))\n",
    "plt.ylabel('Freq.Relativa')"
   ]
  },
  {
   "cell_type": "markdown",
   "metadata": {},
   "source": [
    "Aconteceu alguma coisa, e o cat.categories não funcionou\n",
    "então coloquei a legenda aqui mesmo\n",
    "\n",
    "\n",
    "1: Elementar (primário)\n",
    "\n",
    "2: Médio 1º ciclo (ginasial, etc.)\n",
    "\n",
    "3: Médio 2º ciclo (científico, clássico, etc.)\n",
    "\n",
    "4: Regular do ensino fundamental ou do 1º grau\n",
    "\n",
    "5: Regular do ensino médio ou do 2º grau\n",
    "\n",
    "6: Educação de jovens e adultos ou supletivo do ensino fundamental ou do 1º grau\n",
    "\n",
    "7: Educação de jovens e adultos ou supletivo de ensino médio ou do 2º grau\n",
    "\n",
    "8: Superior de graduação\n",
    "\n",
    "9: Mestrado ou doutorado\n",
    "\n",
    "10: Alfabetização de jovens e adultos\n",
    "\n",
    "11: Creche\n",
    "\n",
    "12: Classe de alfabetização - CA \n",
    "\n",
    "13: Maternal, jardim de infância etc.\n"
   ]
  },
  {
   "cell_type": "code",
   "execution_count": 591,
   "metadata": {
    "collapsed": false
   },
   "outputs": [
    {
     "data": {
      "text/html": [
       "<div>\n",
       "<table border=\"1\" class=\"dataframe\">\n",
       "  <thead>\n",
       "    <tr style=\"text-align: right;\">\n",
       "      <th>V4803</th>\n",
       "      <th>1</th>\n",
       "      <th>2</th>\n",
       "      <th>3</th>\n",
       "      <th>4</th>\n",
       "      <th>5</th>\n",
       "      <th>6</th>\n",
       "      <th>7</th>\n",
       "      <th>8</th>\n",
       "      <th>9</th>\n",
       "      <th>10</th>\n",
       "      <th>11</th>\n",
       "      <th>12</th>\n",
       "      <th>13</th>\n",
       "      <th>14</th>\n",
       "      <th>15</th>\n",
       "      <th>16</th>\n",
       "      <th>17</th>\n",
       "    </tr>\n",
       "    <tr>\n",
       "      <th>UF</th>\n",
       "      <th></th>\n",
       "      <th></th>\n",
       "      <th></th>\n",
       "      <th></th>\n",
       "      <th></th>\n",
       "      <th></th>\n",
       "      <th></th>\n",
       "      <th></th>\n",
       "      <th></th>\n",
       "      <th></th>\n",
       "      <th></th>\n",
       "      <th></th>\n",
       "      <th></th>\n",
       "      <th></th>\n",
       "      <th></th>\n",
       "      <th></th>\n",
       "      <th></th>\n",
       "    </tr>\n",
       "  </thead>\n",
       "  <tbody>\n",
       "    <tr>\n",
       "      <th>Centroeste</th>\n",
       "      <td>876</td>\n",
       "      <td>131</td>\n",
       "      <td>187</td>\n",
       "      <td>205</td>\n",
       "      <td>436</td>\n",
       "      <td>159</td>\n",
       "      <td>88</td>\n",
       "      <td>45</td>\n",
       "      <td>221</td>\n",
       "      <td>23</td>\n",
       "      <td>32</td>\n",
       "      <td>342</td>\n",
       "      <td>48</td>\n",
       "      <td>18</td>\n",
       "      <td>39</td>\n",
       "      <td>405</td>\n",
       "      <td>2</td>\n",
       "    </tr>\n",
       "    <tr>\n",
       "      <th>Nordeste</th>\n",
       "      <td>4563</td>\n",
       "      <td>489</td>\n",
       "      <td>621</td>\n",
       "      <td>612</td>\n",
       "      <td>1070</td>\n",
       "      <td>469</td>\n",
       "      <td>191</td>\n",
       "      <td>136</td>\n",
       "      <td>591</td>\n",
       "      <td>54</td>\n",
       "      <td>67</td>\n",
       "      <td>1068</td>\n",
       "      <td>130</td>\n",
       "      <td>48</td>\n",
       "      <td>42</td>\n",
       "      <td>754</td>\n",
       "      <td>13</td>\n",
       "    </tr>\n",
       "    <tr>\n",
       "      <th>Norte</th>\n",
       "      <td>1459</td>\n",
       "      <td>164</td>\n",
       "      <td>281</td>\n",
       "      <td>309</td>\n",
       "      <td>433</td>\n",
       "      <td>194</td>\n",
       "      <td>101</td>\n",
       "      <td>45</td>\n",
       "      <td>222</td>\n",
       "      <td>26</td>\n",
       "      <td>40</td>\n",
       "      <td>356</td>\n",
       "      <td>57</td>\n",
       "      <td>16</td>\n",
       "      <td>21</td>\n",
       "      <td>261</td>\n",
       "      <td>5</td>\n",
       "    </tr>\n",
       "    <tr>\n",
       "      <th>Sudeste</th>\n",
       "      <td>1911</td>\n",
       "      <td>344</td>\n",
       "      <td>660</td>\n",
       "      <td>787</td>\n",
       "      <td>2618</td>\n",
       "      <td>464</td>\n",
       "      <td>311</td>\n",
       "      <td>214</td>\n",
       "      <td>1094</td>\n",
       "      <td>75</td>\n",
       "      <td>119</td>\n",
       "      <td>1734</td>\n",
       "      <td>279</td>\n",
       "      <td>90</td>\n",
       "      <td>177</td>\n",
       "      <td>1658</td>\n",
       "      <td>2</td>\n",
       "    </tr>\n",
       "    <tr>\n",
       "      <th>Sul</th>\n",
       "      <td>1018</td>\n",
       "      <td>242</td>\n",
       "      <td>444</td>\n",
       "      <td>657</td>\n",
       "      <td>1460</td>\n",
       "      <td>863</td>\n",
       "      <td>262</td>\n",
       "      <td>109</td>\n",
       "      <td>667</td>\n",
       "      <td>45</td>\n",
       "      <td>90</td>\n",
       "      <td>968</td>\n",
       "      <td>121</td>\n",
       "      <td>66</td>\n",
       "      <td>98</td>\n",
       "      <td>827</td>\n",
       "      <td>4</td>\n",
       "    </tr>\n",
       "  </tbody>\n",
       "</table>\n",
       "</div>"
      ],
      "text/plain": [
       "V4803         1    2    3    4     5    6    7    8     9   10   11    12  \\\n",
       "UF                                                                          \n",
       "Centroeste   876  131  187  205   436  159   88   45   221  23   32   342   \n",
       "Nordeste    4563  489  621  612  1070  469  191  136   591  54   67  1068   \n",
       "Norte       1459  164  281  309   433  194  101   45   222  26   40   356   \n",
       "Sudeste     1911  344  660  787  2618  464  311  214  1094  75  119  1734   \n",
       "Sul         1018  242  444  657  1460  863  262  109   667  45   90   968   \n",
       "\n",
       "V4803        13  14   15    16  17  \n",
       "UF                                  \n",
       "Centroeste   48  18   39   405   2  \n",
       "Nordeste    130  48   42   754  13  \n",
       "Norte        57  16   21   261   5  \n",
       "Sudeste     279  90  177  1658   2  \n",
       "Sul         121  66   98   827   4  "
      ]
     },
     "execution_count": 591,
     "metadata": {},
     "output_type": "execute_result"
    }
   ],
   "source": [
    "#Gerando a tabela de região x anos de estudo\n",
    "\n",
    "\n",
    "ct3 = pd.crosstab(aposentados.regiao, aposentados.V4803,margins=False)\n",
    "ct3"
   ]
  },
  {
   "cell_type": "code",
   "execution_count": 592,
   "metadata": {
    "collapsed": false
   },
   "outputs": [
    {
     "data": {
      "text/html": [
       "<div>\n",
       "<table border=\"1\" class=\"dataframe\">\n",
       "  <thead>\n",
       "    <tr style=\"text-align: right;\">\n",
       "      <th>V4803</th>\n",
       "      <th>1</th>\n",
       "      <th>2</th>\n",
       "      <th>3</th>\n",
       "      <th>4</th>\n",
       "      <th>5</th>\n",
       "      <th>6</th>\n",
       "      <th>7</th>\n",
       "      <th>8</th>\n",
       "      <th>9</th>\n",
       "      <th>10</th>\n",
       "      <th>11</th>\n",
       "      <th>12</th>\n",
       "      <th>13</th>\n",
       "      <th>14</th>\n",
       "      <th>15</th>\n",
       "      <th>16</th>\n",
       "      <th>17</th>\n",
       "    </tr>\n",
       "    <tr>\n",
       "      <th>UF</th>\n",
       "      <th></th>\n",
       "      <th></th>\n",
       "      <th></th>\n",
       "      <th></th>\n",
       "      <th></th>\n",
       "      <th></th>\n",
       "      <th></th>\n",
       "      <th></th>\n",
       "      <th></th>\n",
       "      <th></th>\n",
       "      <th></th>\n",
       "      <th></th>\n",
       "      <th></th>\n",
       "      <th></th>\n",
       "      <th></th>\n",
       "      <th></th>\n",
       "      <th></th>\n",
       "    </tr>\n",
       "  </thead>\n",
       "  <tbody>\n",
       "    <tr>\n",
       "      <th>Centroeste</th>\n",
       "      <td>2.267</td>\n",
       "      <td>0.339</td>\n",
       "      <td>0.484</td>\n",
       "      <td>0.530</td>\n",
       "      <td>1.128</td>\n",
       "      <td>0.411</td>\n",
       "      <td>0.228</td>\n",
       "      <td>0.116</td>\n",
       "      <td>0.572</td>\n",
       "      <td>0.060</td>\n",
       "      <td>0.083</td>\n",
       "      <td>0.885</td>\n",
       "      <td>0.124</td>\n",
       "      <td>0.047</td>\n",
       "      <td>0.101</td>\n",
       "      <td>1.048</td>\n",
       "      <td>0.005</td>\n",
       "    </tr>\n",
       "    <tr>\n",
       "      <th>Nordeste</th>\n",
       "      <td>11.808</td>\n",
       "      <td>1.265</td>\n",
       "      <td>1.607</td>\n",
       "      <td>1.584</td>\n",
       "      <td>2.769</td>\n",
       "      <td>1.214</td>\n",
       "      <td>0.494</td>\n",
       "      <td>0.352</td>\n",
       "      <td>1.529</td>\n",
       "      <td>0.140</td>\n",
       "      <td>0.173</td>\n",
       "      <td>2.764</td>\n",
       "      <td>0.336</td>\n",
       "      <td>0.124</td>\n",
       "      <td>0.109</td>\n",
       "      <td>1.951</td>\n",
       "      <td>0.034</td>\n",
       "    </tr>\n",
       "    <tr>\n",
       "      <th>Norte</th>\n",
       "      <td>3.776</td>\n",
       "      <td>0.424</td>\n",
       "      <td>0.727</td>\n",
       "      <td>0.800</td>\n",
       "      <td>1.121</td>\n",
       "      <td>0.502</td>\n",
       "      <td>0.261</td>\n",
       "      <td>0.116</td>\n",
       "      <td>0.574</td>\n",
       "      <td>0.067</td>\n",
       "      <td>0.104</td>\n",
       "      <td>0.921</td>\n",
       "      <td>0.148</td>\n",
       "      <td>0.041</td>\n",
       "      <td>0.054</td>\n",
       "      <td>0.675</td>\n",
       "      <td>0.013</td>\n",
       "    </tr>\n",
       "    <tr>\n",
       "      <th>Sudeste</th>\n",
       "      <td>4.945</td>\n",
       "      <td>0.890</td>\n",
       "      <td>1.708</td>\n",
       "      <td>2.037</td>\n",
       "      <td>6.775</td>\n",
       "      <td>1.201</td>\n",
       "      <td>0.805</td>\n",
       "      <td>0.554</td>\n",
       "      <td>2.831</td>\n",
       "      <td>0.194</td>\n",
       "      <td>0.308</td>\n",
       "      <td>4.487</td>\n",
       "      <td>0.722</td>\n",
       "      <td>0.233</td>\n",
       "      <td>0.458</td>\n",
       "      <td>4.291</td>\n",
       "      <td>0.005</td>\n",
       "    </tr>\n",
       "    <tr>\n",
       "      <th>Sul</th>\n",
       "      <td>2.634</td>\n",
       "      <td>0.626</td>\n",
       "      <td>1.149</td>\n",
       "      <td>1.700</td>\n",
       "      <td>3.778</td>\n",
       "      <td>2.233</td>\n",
       "      <td>0.678</td>\n",
       "      <td>0.282</td>\n",
       "      <td>1.726</td>\n",
       "      <td>0.116</td>\n",
       "      <td>0.233</td>\n",
       "      <td>2.505</td>\n",
       "      <td>0.313</td>\n",
       "      <td>0.171</td>\n",
       "      <td>0.254</td>\n",
       "      <td>2.140</td>\n",
       "      <td>0.010</td>\n",
       "    </tr>\n",
       "  </tbody>\n",
       "</table>\n",
       "</div>"
      ],
      "text/plain": [
       "V4803           1      2      3      4      5      6      7      8      9   \\\n",
       "UF                                                                           \n",
       "Centroeste   2.267  0.339  0.484  0.530  1.128  0.411  0.228  0.116  0.572   \n",
       "Nordeste    11.808  1.265  1.607  1.584  2.769  1.214  0.494  0.352  1.529   \n",
       "Norte        3.776  0.424  0.727  0.800  1.121  0.502  0.261  0.116  0.574   \n",
       "Sudeste      4.945  0.890  1.708  2.037  6.775  1.201  0.805  0.554  2.831   \n",
       "Sul          2.634  0.626  1.149  1.700  3.778  2.233  0.678  0.282  1.726   \n",
       "\n",
       "V4803          10     11     12     13     14     15     16     17  \n",
       "UF                                                                  \n",
       "Centroeste  0.060  0.083  0.885  0.124  0.047  0.101  1.048  0.005  \n",
       "Nordeste    0.140  0.173  2.764  0.336  0.124  0.109  1.951  0.034  \n",
       "Norte       0.067  0.104  0.921  0.148  0.041  0.054  0.675  0.013  \n",
       "Sudeste     0.194  0.308  4.487  0.722  0.233  0.458  4.291  0.005  \n",
       "Sul         0.116  0.233  2.505  0.313  0.171  0.254  2.140  0.010  "
      ]
     },
     "execution_count": 592,
     "metadata": {},
     "output_type": "execute_result"
    }
   ],
   "source": [
    "#Agora gerando-a com valores relativos ao total de aposentados\n",
    "\n",
    "ct3r = (ct3/len(aposentados)*100).round(decimals=3)\n",
    "ct3r"
   ]
  },
  {
   "cell_type": "code",
   "execution_count": 593,
   "metadata": {
    "collapsed": false
   },
   "outputs": [
    {
     "data": {
      "text/plain": [
       "<matplotlib.text.Text at 0x1c813d36c50>"
      ]
     },
     "execution_count": 593,
     "metadata": {},
     "output_type": "execute_result"
    },
    {
     "data": {
      "image/png": "[encoded data removed]",
      "text/plain": [
       "<matplotlib.figure.Figure at 0x1c8138df860>"
      ]
     },
     "metadata": {},
     "output_type": "display_data"
    }
   ],
   "source": [
    "#Gráfico com as frequências relativas do curso mais elevado atendido pelos aposentados\n",
    "\n",
    "plot2r = ct2r.plot(kind='bar', figsize=(20,8))\n",
    "plt.ylabel('Freq.Relativa')"
   ]
  },
  {
   "cell_type": "markdown",
   "metadata": {
    "collapsed": false
   },
   "source": [
    "___\n",
    "## Conclusão "
   ]
  },
  {
   "cell_type": "markdown",
   "metadata": {
    "collapsed": true
   },
   "source": [
    "A minha proposta foi analisar as rendas domiciliares dentre os aposentados das diferentes regiões do país. O primeiro gráfico mostrou que a renda entre os aposentados do sul e sudeste é maior do que as demais regiões. Nos dois gráficos seguintes  foram mostradas duas relações parecidas com a renda, o curso mais alto atendido pelos pesquisados e o número de anos de estudo, variáveis nas quais ambos sul e sudeste mostraram-se com uma população aposentada com um nível de educação maior e com mais anos de estudo, não estão tão díspares, assim como a renda porém consegue se perceber claramente esta relação. Portanto pode-se se dizer com alguma certeza de que os anos de estudo e curso mais elevado realizado por uma pessoa afeta sim o quanto\n",
    "ela deve receber de renda após se aposentar."
   ]
  }
 ],
 "metadata": {
  "anaconda-cloud": {},
  "kernelspec": {
   "display_name": "Python [Root]",
   "language": "python",
   "name": "Python [Root]"
  },
  "language_info": {
   "codemirror_mode": {
    "name": "ipython",
    "version": 3
   },
   "file_extension": ".py",
   "mimetype": "text/x-python",
   "name": "python",
   "nbconvert_exporter": "python",
   "pygments_lexer": "ipython3",
   "version": "3.5.2"
  }
 },
 "nbformat": 4,
 "nbformat_minor": 0
}
